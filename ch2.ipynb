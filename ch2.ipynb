{
 "cells": [
  {
   "cell_type": "markdown",
   "metadata": {},
   "source": [
    "# Checkpoint 2"
   ]
  },
  {
   "cell_type": "code",
   "execution_count": 1,
   "metadata": {},
   "outputs": [],
   "source": [
    "import numpy as np\n",
    "import pandas as pd"
   ]
  },
  {
   "cell_type": "code",
   "execution_count": 2,
   "metadata": {},
   "outputs": [],
   "source": [
    "gb_videos_raw = pd.read_csv(\"data/GB_videos_5p.csv\", sep=';')\n",
    "gb_category = pd.read_json(\"data/GB_category_id.json\")\n",
    "us_videos_raw = pd.read_csv(\"data/US_videos_5p.csv\", sep=';')\n",
    "us_category = pd.read_json(\"data/US_category_id.json\")"
   ]
  }
 ],
 "metadata": {
  "kernelspec": {
   "display_name": "Python 3.8.5  ('env': venv)",
   "name": "pythonjvsc74a57bd0b5d6cfccf4e37822993db5ee3e042b4c916ce73e25f388398cef3f18008419b0"
  },
  "language_info": {
   "codemirror_mode": {
    "name": "ipython",
    "version": 3
   },
   "file_extension": ".py",
   "mimetype": "text/x-python",
   "name": "python",
   "nbconvert_exporter": "python",
   "pygments_lexer": "ipython3",
   "version": "3.8.5"
  },
  "metadata": {
   "interpreter": {
    "hash": "b5d6cfccf4e37822993db5ee3e042b4c916ce73e25f388398cef3f18008419b0"
   }
  },
  "orig_nbformat": 2
 },
 "nbformat": 4,
 "nbformat_minor": 2
}